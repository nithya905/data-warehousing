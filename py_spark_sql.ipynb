{
 "cells": [
  {
   "cell_type": "code",
   "execution_count": 77,
   "metadata": {},
   "outputs": [],
   "source": [
    "from pyspark import SparkContext\n",
    "from pyspark.sql import SQLContext\n",
    "import psycopg2 as pg   \n",
    "from pyspark.sql import SparkSession \n",
    "from pyspark.sql import Window\n",
    "import sys\n",
    "from pyspark.sql.functions import sum, bround\n",
    "from pyspark.sql import DataFrameReader\n",
    "from pyspark.sql import SparkSession\n",
    "from pyspark.sql.functions import col,count\n",
    "import pandas as pd\n",
    "from pyspark.sql import functions as f\n",
    "from pyspark.sql.functions import desc\n"
   ]
  },
  {
   "cell_type": "code",
   "execution_count": 2,
   "metadata": {},
   "outputs": [],
   "source": [
    "connection = pg.connect(user = \"postgres\",password = \"7980\",host = \"127.0.0.1\",port = \"5432\",database = \"Data_warehouse\")"
   ]
  },
  {
   "cell_type": "code",
   "execution_count": 3,
   "metadata": {},
   "outputs": [
    {
     "data": {
      "text/plain": [
       "<cursor object at 0x000002495D4D1BA8; closed: 0>"
      ]
     },
     "execution_count": 3,
     "metadata": {},
     "output_type": "execute_result"
    }
   ],
   "source": [
    "connection.cursor()"
   ]
  },
  {
   "cell_type": "code",
   "execution_count": 4,
   "metadata": {},
   "outputs": [],
   "source": [
    "spark = SparkSession \\\n",
    ".builder \\\n",
    ".appName(\"Python_Spark_SQL for Data_warehouse Project\") \\\n",
    ".config(\"spark.some.config.option\", \"some-value\") \\\n",
    ".getOrCreate()\n"
   ]
  },
  {
   "cell_type": "code",
   "execution_count": 250,
   "metadata": {},
   "outputs": [],
   "source": [
    "donations=pd.read_sql_query(\"Select * from donations limit 200000\" ,con=connection)\n",
    "team=pd.read_sql_query(\"Select * from teams limit 200000\", con=connection)\n",
    "participants=pd.read_sql_query(\"select * from participants limit 200000 \", con=connection)\n",
    "avgyear=pd.read_sql_query(\"select * from avgyear limit 200000\", con=connection)\n",
    "city=pd.read_sql_query(\"select * from city limit 100000\", con=connection)\n",
    "donor=pd.read_sql_query(\"select * from donor limit 100000\", con=connection)\n",
    "gender=pd.read_sql_query(\"select * from gender limit 100000\", con=connection)\n",
    "location=pd.read_sql_query(\"select * from location limit 100000\", con=connection)\n",
    "\n",
    "events=pd.read_sql_query(\"select * from events limit 100000\", con=connection)\n",
    "teams1=pd.read_sql_query(\"select * from teams1 limit 200000\", con=connection)\n",
    "participants1=pd.read_sql_query(\"select * from participants1 limit 200000\", con=connection)"
   ]
  },
  {
   "cell_type": "code",
   "execution_count": 251,
   "metadata": {},
   "outputs": [],
   "source": [
    "\n",
    "team_df = spark.createDataFrame(team)\n",
    "\n",
    "donations_df = spark.createDataFrame(donations)\n",
    "\n",
    "participants_df = spark.createDataFrame(participants) \n",
    "\n",
    "avgyear_df = spark.createDataFrame(avgyear)\n",
    "\n",
    "city_df = spark.createDataFrame(city)\n",
    "donor_df = spark.createDataFrame(donor)\n",
    "gender_df = spark.createDataFrame(gender)\n",
    "location_df = spark.createDataFrame(location)\n",
    "\n",
    "events_df = spark.createDataFrame(events)\n",
    "teams1_df = spark.createDataFrame(teams1)\n",
    "participants1_df = spark.createDataFrame(participants1)\n",
    "\n",
    "\n"
   ]
  },
  {
   "cell_type": "code",
   "execution_count": 45,
   "metadata": {},
   "outputs": [
    {
     "name": "stdout",
     "output_type": "stream",
     "text": [
      "+------------------+-----------+------------+\n",
      "|ispriorparticipant|fiscal_year|total_amount|\n",
      "+------------------+-----------+------------+\n",
      "|              true|       2014|     4064579|\n",
      "|              true|       2015|     8526540|\n",
      "+------------------+-----------+------------+\n",
      "\n"
     ]
    }
   ],
   "source": [
    "#Q1. What is the total amount of givings  every team(is prior participants)did per year\n",
    "team_df.join(donations_df, on=\"team_id\",how = \"inner\")\\\n",
    ".groupby(team_df.ispriorparticipant,donations_df.fiscal_year)\\\n",
    ".agg(f.sum(donations_df.gift_amount+donations_df.additional_gift_amount).alias(\"total_amount\")) \\\n",
    ".show()"
   ]
  },
  {
   "cell_type": "code",
   "execution_count": 165,
   "metadata": {},
   "outputs": [
    {
     "name": "stdout",
     "output_type": "stream",
     "text": [
      "+------------+-----+------------+-----------------+\n",
      "|        city|state|total_amount|max(total_amount)|\n",
      "+------------+-----+------------+-----------------+\n",
      "|     Houston|   TX|    36900736|         36900736|\n",
      "|     NewYork|   NY|     8437563|          8437563|\n",
      "|   Princeton|   NJ|     8040216|          8040216|\n",
      "|      Denver|   CO|     5402230|          5402230|\n",
      "|      Dallas|   TX|     4350647|          4350647|\n",
      "|  SanAntonio|   TX|     3980558|          3980558|\n",
      "|      Austin|   TX|     3674821|          3674821|\n",
      "|     Chicago|   IL|     3584394|          3584394|\n",
      "| Minneapolis|   MN|     3497011|          3497011|\n",
      "|SanFrancisco|   CA|     3454297|          3454297|\n",
      "+------------+-----+------------+-----------------+\n",
      "only showing top 10 rows\n",
      "\n"
     ]
    }
   ],
   "source": [
    "\n",
    "#Q2. What are the  cities and respective states where  is done the majority of givings?\n",
    "location_df.groupby(\"city\",\"state\",\"total_amount\")\\\n",
    ".agg(f.max(\"total_amount\"))\\\n",
    ".orderBy('total_amount', ascending=False)\\\n",
    ".show(10)\n"
   ]
  },
  {
   "cell_type": "code",
   "execution_count": 121,
   "metadata": {},
   "outputs": [
    {
     "name": "stdout",
     "output_type": "stream",
     "text": [
      "+--------+-----------+-----------------+\n",
      "|event_id|fiscal_year|avg(total_amount)|\n",
      "+--------+-----------+-----------------+\n",
      "|   21466|       2013|         400085.0|\n",
      "|   21238|       2013|         780090.0|\n",
      "|   28197|       2017|        1272985.0|\n",
      "|   28956|       2017|         232754.0|\n",
      "|   29037|       2017|         200321.0|\n",
      "|   21114|       2013|          51963.0|\n",
      "|   23828|       2014|          40196.0|\n",
      "|   23948|       2014|           1915.0|\n",
      "|   24000|       2014|         367560.0|\n",
      "|   27060|       2016|         272694.0|\n",
      "+--------+-----------+-----------------+\n",
      "only showing top 10 rows\n",
      "\n"
     ]
    }
   ],
   "source": [
    "#Q3.What is the average amount of donations for a particular event in a given year? \n",
    "avgyear_df.groupby(\"event_id\",\"fiscal_year\")\\\n",
    ".agg(f.avg(\"total_amount\"))\\\n",
    ".limit(300).show(10)\n",
    "\n"
   ]
  },
  {
   "cell_type": "code",
   "execution_count": 136,
   "metadata": {},
   "outputs": [
    {
     "name": "stdout",
     "output_type": "stream",
     "text": [
      "+-------------+-----------------+---------------+\n",
      "|       gender|max(total_amount)|max(avg_amount)|\n",
      "+-------------+-----------------+---------------+\n",
      "|       Female|         32401149|       16200574|\n",
      "|not_avaliable|         20990534|       10495267|\n",
      "|         Male|         44409824|       22204912|\n",
      "+-------------+-----------------+---------------+\n",
      "\n"
     ]
    }
   ],
   "source": [
    "#Q4.What is the max amount of givings and max average of givings  based on donor’s gender ? \n",
    "\n",
    "gender_df.groupby(\"gender\")\\\n",
    ".agg(f.max(\"total_amount\"),f.max(\"avg_amount\"))\\\n",
    ".show(3)\n",
    "\n"
   ]
  },
  {
   "cell_type": "code",
   "execution_count": 141,
   "metadata": {},
   "outputs": [
    {
     "name": "stdout",
     "output_type": "stream",
     "text": [
      "+-------------+-----------+-----------------+---------------+\n",
      "|       gender|fiscal_year|max(total_amount)|max(avg_amount)|\n",
      "+-------------+-----------+-----------------+---------------+\n",
      "|not_avaliable|       2013|         17059512|        8529756|\n",
      "|       Female|       2013|         31218075|       15609037|\n",
      "|         Male|       2013|         43238109|       21619054|\n",
      "|         Male|       2014|         44409824|       22204912|\n",
      "|not_avaliable|       2014|         18234643|        9117321|\n",
      "|       Female|       2014|         32048503|       16024251|\n",
      "|       Female|       2015|         32401149|       16200574|\n",
      "|not_avaliable|       2015|         17613162|        8806581|\n",
      "|         Male|       2015|         44349808|       22174904|\n",
      "|       Female|       2016|         30016462|       15008231|\n",
      "|not_avaliable|       2016|         20990534|       10495267|\n",
      "|         Male|       2016|         40121128|       20060564|\n",
      "|not_avaliable|       2017|         17423312|        8711656|\n",
      "|         Male|       2017|         37645274|       18822637|\n",
      "|       Female|       2017|         27614004|       13807002|\n",
      "+-------------+-----------+-----------------+---------------+\n",
      "\n"
     ]
    }
   ],
   "source": [
    "#Q5.What is the max amount of givings  and max average of givings based on donor’s gender per each year?\n",
    "#select max(total_amount),max(avg_amount),gender , fiscal_year from gender  group by gender,fiscal_year ;\n",
    "gender_df.groupby(\"gender\",\"fiscal_year\")\\\n",
    ".agg(f.max(\"total_amount\"),f.max(\"avg_amount\"))\\\n",
    ".orderBy('fiscal_year', ascending=True)\\\n",
    ".show(15)\n"
   ]
  },
  {
   "cell_type": "code",
   "execution_count": 160,
   "metadata": {},
   "outputs": [
    {
     "name": "stdout",
     "output_type": "stream",
     "text": [
      "+------------------+----------------------+--------------------+------------+\n",
      "|ispriorparticipant|number_of_participants|                name|total_amount|\n",
      "+------------------+----------------------+--------------------+------------+\n",
      "|              true|                    12|               Spoke|          35|\n",
      "|              true|                    21|        Cyclomaniacs|        1090|\n",
      "|              true|                    23|           MissionMS|          50|\n",
      "|              true|                     2|         LilasLeague|         380|\n",
      "|              true|                     9|     theWellFitGroup|         100|\n",
      "|              true|                    11|DontMSwithNordsonEFD|          70|\n",
      "|              true|                    11|BiogenIdecRolling...|        7767|\n",
      "|              true|                    10|         TeamFanboys|          35|\n",
      "|              true|                   242|         TeamCalpine|        4285|\n",
      "|              true|                    23|         TourdeFarce|       12877|\n",
      "|              true|                    44|  TenaciouslyKinetic|        1584|\n",
      "|              true|                     9|         TeamForgers|          50|\n",
      "|              true|                     8|         RidingMSOff|         220|\n",
      "|              true|                    11|      TEAMGOLDENTREE|        2030|\n",
      "|              true|                     4|       TeamTidewater|        2085|\n",
      "|              true|                     4|           PhilsTeam|        7737|\n",
      "|              true|                     3|      TeamGrannysGuy|         455|\n",
      "|              true|                    33|        VULoanRiders|         100|\n",
      "|              true|                    15|             TapRoom|         100|\n",
      "|              true|                    85|     BlueLineBikeLab|         980|\n",
      "+------------------+----------------------+--------------------+------------+\n",
      "only showing top 20 rows\n",
      "\n"
     ]
    }
   ],
   "source": [
    "\n",
    "#Q6.What is the total amount of givings every team did based on their name and number of participants\n",
    "\n",
    "team_df.join(donations_df, on=\"team_id\",how = \"inner\")\\\n",
    ".groupby(team_df.ispriorparticipant,team_df.number_of_participants,team_df.name)\\\n",
    ".agg(f.sum(donations_df.gift_amount+donations_df.additional_gift_amount).alias(\"total_amount\")) \\\n",
    ".show()"
   ]
  },
  {
   "cell_type": "code",
   "execution_count": 163,
   "metadata": {},
   "outputs": [
    {
     "name": "stdout",
     "output_type": "stream",
     "text": [
      "+---------+-----+------------+-----------------+\n",
      "|     city|state|total_amount|max(total_amount)|\n",
      "+---------+-----+------------+-----------------+\n",
      "|  Houston|   TX|    36900736|         36900736|\n",
      "|  NewYork|   NY|     8437563|          8437563|\n",
      "|Princeton|   NJ|     8040216|          8040216|\n",
      "|   Denver|   CO|     5402230|          5402230|\n",
      "|   Dallas|   TX|     4350647|          4350647|\n",
      "+---------+-----+------------+-----------------+\n",
      "\n"
     ]
    }
   ],
   "source": [
    "#7.What are the top 5 cities and respective states where  is done the majority of givings? \n",
    "\n",
    "\n",
    "location_df.groupby(\"city\",\"state\",\"total_amount\")\\\n",
    ".agg(f.max(\"total_amount\"))\\\n",
    ".orderBy('total_amount', ascending=False)\\\n",
    ".limit(5).show()\n"
   ]
  },
  {
   "cell_type": "code",
   "execution_count": 239,
   "metadata": {},
   "outputs": [
    {
     "name": "stdout",
     "output_type": "stream",
     "text": [
      "+-----------+--------+------------+\n",
      "|fiscal_year|gifttype|total_amount|\n",
      "+-----------+--------+------------+\n",
      "|       2014|  online|     2171621|\n",
      "|       2014| offline|     1103057|\n",
      "+-----------+--------+------------+\n",
      "\n"
     ]
    }
   ],
   "source": [
    "#8.What is the total amount of givings per each type of gift(by donors) ordered by year ? \n",
    "donations_df.join(donor_df, on=\"donor_id\",how = \"inner\")\\\n",
    ".groupby(donations_df.fiscal_year,donor_df.gifttype)\\\n",
    ".agg(f.sum(donations_df.gift_amount+donations_df.additional_gift_amount).alias(\"total_amount\")) \\\n",
    ".orderBy('fiscal_year', ascending=False)\\\n",
    ".show(2)"
   ]
  },
  {
   "cell_type": "code",
   "execution_count": 277,
   "metadata": {},
   "outputs": [
    {
     "name": "stdout",
     "output_type": "stream",
     "text": [
      "+-----+------------+\n",
      "|state|total_amount|\n",
      "+-----+------------+\n",
      "|   AK|      122438|\n",
      "|   AL|      346378|\n",
      "|   AR|      152060|\n",
      "|   AZ|      215025|\n",
      "|   CA|     3505923|\n",
      "|   CO|     2427041|\n",
      "|   CT|      488021|\n",
      "|   DC|      101970|\n",
      "|   DE|      499532|\n",
      "|   FL|     2003579|\n",
      "|   GA|      525703|\n",
      "|   HI|       37045|\n",
      "|   IA|       90996|\n",
      "|   ID|      171775|\n",
      "|   IL|     2412265|\n",
      "|   IN|      159924|\n",
      "|   KS|      832031|\n",
      "|   KY|      132697|\n",
      "|   LA|      746543|\n",
      "|   MA|     1988092|\n",
      "+-----+------------+\n",
      "only showing top 20 rows\n",
      "\n"
     ]
    }
   ],
   "source": [
    "#what is the total amount givings from all the events    per state \n",
    "\n",
    "\n",
    "events_df.select(\"average_team_size\",\"total_from_participant\",\"state\")\\\n",
    ".groupBy(\"state\")\\\n",
    ".agg(f.sum(events_df.total_from_participant).alias(\"total_amount\")) \\\n",
    ".orderBy(\"state\").show();"
   ]
  },
  {
   "cell_type": "code",
   "execution_count": 307,
   "metadata": {},
   "outputs": [
    {
     "name": "stdout",
     "output_type": "stream",
     "text": [
      "+----------------------+------------+\n",
      "|participant_occupation|total_amount|\n",
      "+----------------------+------------+\n",
      "|         not_avaliable|    14421885|\n",
      "|            Healthcare|      958179|\n",
      "|           Engineering|      760309|\n",
      "|  Information Techn...|      508962|\n",
      "|  Executive/Management|      482642|\n",
      "|                 Sales|      455294|\n",
      "|            Consulting|      409925|\n",
      "|   Legal and Paralegal|      323326|\n",
      "|  Education and Tra...|      301797|\n",
      "|  Banking and Finan...|      298265|\n",
      "|            Accounting|      294621|\n",
      "|  Real Estate, Rent...|      173542|\n",
      "|             Marketing|      169082|\n",
      "|         Manufacturing|      146639|\n",
      "|  Construction and ...|      142663|\n",
      "|  Science and Biote...|      137825|\n",
      "|             Insurance|      115247|\n",
      "|            Government|      108627|\n",
      "|      Retail/Wholesale|      101619|\n",
      "|  Transportation an...|       94582|\n",
      "+----------------------+------------+\n",
      "only showing top 20 rows\n",
      "\n"
     ]
    }
   ],
   "source": [
    "#which occupupation has the highest givings  \n",
    "participants1_df.groupBy(\"participant_occupation\")\\\n",
    ".agg(f.sum(participants1_df.total_from_participant).alias(\"total_amount\"))\\\n",
    ".orderBy('total_amount', ascending=False)\\\n",
    ".show()\n",
    "\n",
    "\n"
   ]
  },
  {
   "cell_type": "code",
   "execution_count": 316,
   "metadata": {},
   "outputs": [
    {
     "name": "stdout",
     "output_type": "stream",
     "text": [
      "+-----------+----------+-----------------------------+-----+\n",
      "|fiscal_year|event_type|total_offline_confirmed_gifts|count|\n",
      "+-----------+----------+-----------------------------+-----+\n",
      "|       2014|      Bike|                           76|    3|\n",
      "|       2014|      Bike|                         5435|    1|\n",
      "|       2014|      Bike|                          219|    1|\n",
      "|       2014|      Bike|                         2384|    1|\n",
      "|       2014|      Bike|                         1504|    1|\n",
      "|       2014|      Bike|                          545|    5|\n",
      "|       2014|      Bike|                        13532|    1|\n",
      "|       2014|      Bike|                        20986|    1|\n",
      "|       2014|      Bike|                        31089|    1|\n",
      "|       2014|      Bike|                          494|    1|\n",
      "|       2014|      Bike|                          871|    1|\n",
      "|       2014|      Bike|                         1330|    1|\n",
      "|       2014|      Bike|                        18691|    1|\n",
      "|       2014|      Bike|                         1172|    1|\n",
      "|       2014|      Bike|                         4200|    1|\n",
      "|       2014|      Bike|                         1875|    2|\n",
      "|       2014|      Bike|                          539|    1|\n",
      "|       2014|      Bike|                         1045|    2|\n",
      "|       2014|      Bike|                         4439|    1|\n",
      "|       2014|      Bike|                         4284|    1|\n",
      "+-----------+----------+-----------------------------+-----+\n",
      "only showing top 20 rows\n",
      "\n"
     ]
    }
   ],
   "source": [
    "#get the events and the amount which has same value in year 2017 and count the number of times the event gave same amount  \n",
    "\n",
    "teams1_df.filter(col(\"fiscal_year\").startswith(\"2014\"))\\\n",
    ".rollup(\"fiscal_year\",\"event_type\", teams1_df.total_offline_confirmed_gifts).count()\\\n",
    ".where(col(\"event_type\").isNotNull()).orderBy(\"fiscal_year\",\"event_type\").show()\n",
    "\n"
   ]
  },
  {
   "cell_type": "code",
   "execution_count": 331,
   "metadata": {},
   "outputs": [
    {
     "name": "stdout",
     "output_type": "stream",
     "text": [
      "+----------------------+----------------------+------+\n",
      "|participant_occupation|total_from_participant|cumsum|\n",
      "+----------------------+----------------------+------+\n",
      "|  Restaurant and Fo...|                     0|     0|\n",
      "|  Restaurant and Fo...|                   200|   200|\n",
      "|  Restaurant and Fo...|                     0|   200|\n",
      "|  Restaurant and Fo...|                     0|   200|\n",
      "|  Restaurant and Fo...|                     0|   200|\n",
      "|  Restaurant and Fo...|                     0|   200|\n",
      "|  Restaurant and Fo...|                     0|   200|\n",
      "|  Restaurant and Fo...|                     0|   200|\n",
      "|  Restaurant and Fo...|                     0|   200|\n",
      "|  Restaurant and Fo...|                   150|   350|\n",
      "|  Restaurant and Fo...|                     0|   350|\n",
      "|  Restaurant and Fo...|                    10|   360|\n",
      "|  Restaurant and Fo...|                     0|   360|\n",
      "|  Restaurant and Fo...|                     0|   360|\n",
      "|  Restaurant and Fo...|                     0|   360|\n",
      "|  Restaurant and Fo...|                     0|   360|\n",
      "|  Restaurant and Fo...|                     0|   360|\n",
      "|  Restaurant and Fo...|                     0|   360|\n",
      "|  Restaurant and Fo...|                     0|   360|\n",
      "|  Restaurant and Fo...|                    65|   425|\n",
      "+----------------------+----------------------+------+\n",
      "only showing top 20 rows\n",
      "\n"
     ]
    }
   ],
   "source": [
    "win_spec = Window.partitionBy('participant_occupation').orderBy('participant_occupation').rowsBetween(-sys.maxsize, 0)\n",
    "cum_sum = participants1_df.select(\"participant_occupation\",\"total_from_participant\").withColumn('cumsum', f.sum(participants1_df.total_from_participant).over(win_spec))\n",
    "cum_sum.show();\n"
   ]
  },
  {
   "cell_type": "code",
   "execution_count": null,
   "metadata": {},
   "outputs": [],
   "source": []
  }
 ],
 "metadata": {
  "kernelspec": {
   "display_name": "Python 3",
   "language": "python",
   "name": "python3"
  },
  "language_info": {
   "codemirror_mode": {
    "name": "ipython",
    "version": 3
   },
   "file_extension": ".py",
   "mimetype": "text/x-python",
   "name": "python",
   "nbconvert_exporter": "python",
   "pygments_lexer": "ipython3",
   "version": "3.7.3"
  }
 },
 "nbformat": 4,
 "nbformat_minor": 2
}
